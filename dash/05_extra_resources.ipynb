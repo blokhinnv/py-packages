{
 "cells": [
  {
   "cell_type": "markdown",
   "metadata": {},
   "source": [
    "# Использование дополнительных стилей CSS и кода JS"
   ]
  },
  {
   "cell_type": "markdown",
   "metadata": {},
   "source": [
    "Приложения Dash отображаются в веб-браузере с помощью CSS и JavaScript. При загрузке страницы Dash предоставляет небольшой HTML-шаблон, содержащий ссылки на CSS и JavaScript, необходимые для рендеринга приложения.\n",
    "\n",
    "Базовый вариант добавления CSS или JS: создать папку с именем `assets` в корневом каталоге приложения и положить в нее свои файлы CSS и JavaScript. Dash будет автоматически обрабатывать все файлы, включенные в эту папку. По умолчанию URL-адрес для запроса ресурсов будет /assets, но вы можете настроить его с помощью аргумента `assets_url_path` для `dash.Dash`.\n",
    "\n",
    "Автоматически включаются:\n",
    "* CSS файлы с расширением .css (включаются после стилей компонентов Dash)\n",
    "* JS файлы с расширением .js\n",
    "* Иконка сайта favicon.ico\n",
    "\n",
    "Файлы включаются в _алфавитном порядке_.\n",
    "\n",
    "Дополнительно можно:\n",
    "- прикладывать файлы (изображения) в каталог assets\n",
    "- прикладывать файлы из CDN\n",
    "- добавлять дополнительные файлы с JS и CSS из внешних источников: `Dash.external_scripts`, `Dash.external_stylesheets`.\n",
    "- переопределять используемую версию plotly.js: `dcc.Graph` использует plotly.js для визуализации, вместе с dash идет своя версия, но при желании ее можно заменить\n",
    "- подключить Tex: `external_scripts=[\"https://cdnjs.cloudflare.com/ajax/libs/mathjax/2.7.5/MathJax.js?config=TeX-MML-AM_CHTML\" ]`\n"
   ]
  },
  {
   "cell_type": "code",
   "execution_count": 13,
   "metadata": {},
   "outputs": [
    {
     "name": "stdout",
     "output_type": "stream",
     "text": [
      "Overwriting 05_extra_resources/app.py\n"
     ]
    }
   ],
   "source": [
    "%%file 05_extra_resources/app.py\n",
    "import plotly.express as px\n",
    "from dash import Dash, dcc, Input, Output, html\n",
    "import pandas as pd\n",
    "\n",
    "df = pd.read_csv('https://raw.githubusercontent.com/plotly/datasets/master/gapminderDataFiveYear.csv')\n",
    "app = Dash(\n",
    "    __name__, \n",
    "    # external_stylesheets = ['https://codepen.io/chriddyp/pen/bWLwgP.css'],\n",
    "    assets_folder=\"assets\"\n",
    ")\n",
    "app.layout = html.Div(\n",
    "    [\n",
    "        dcc.Graph(id='graph-with-slider'),\n",
    "        dcc.Slider(\n",
    "            df['year'].min(),\n",
    "            df['year'].max(),\n",
    "            step=None,\n",
    "            value=df['year'].min(),\n",
    "            marks={str(year): str(year) for year in df['year'].unique()},\n",
    "            id='year-slider'\n",
    "        ),\n",
    "        html.H2('Горизонтальная ось:'),\n",
    "        dcc.RadioItems(\n",
    "            ['Linear', 'Log'],\n",
    "            value='Log',\n",
    "            id='xaxis-type'\n",
    "        )\n",
    "    ]\n",
    ")\n",
    "\n",
    "# callback может принимать несколько входных параметров\n",
    "@app.callback(\n",
    "    # модифицируем фигуру на основе\n",
    "    Output('graph-with-slider', 'figure'),\n",
    "    # значения слайдера и селектора\n",
    "    Input('year-slider', 'value'),\n",
    "    Input('xaxis-type', 'value')\n",
    ")\n",
    "def _(selected_year, xaxis_type):\n",
    "    # функция обратного вызова не должна модифицировать глобальные переменные\n",
    "    filtered_df = df[df.year == selected_year]\n",
    "    fig = px.scatter(\n",
    "        filtered_df, \n",
    "        x=\"gdpPercap\", \n",
    "        y=\"lifeExp\",\n",
    "        size=\"pop\", \n",
    "        color=\"continent\", \n",
    "        hover_name=\"country\",\n",
    "        log_x=(xaxis_type=='Log'), \n",
    "        size_max=55\n",
    "    )\n",
    "    return fig\n",
    "\n",
    "\n",
    "if __name__ == \"__main__\":\n",
    "    app.run_server(debug=True)"
   ]
  },
  {
   "cell_type": "code",
   "execution_count": null,
   "metadata": {},
   "outputs": [],
   "source": []
  }
 ],
 "metadata": {
  "interpreter": {
   "hash": "3d350be78de3d773dff1180fe4b311ce66aa849320594e97ef66541bde7b78d8"
  },
  "kernelspec": {
   "display_name": "Python 3.10.4 ('pypa')",
   "language": "python",
   "name": "python3"
  },
  "language_info": {
   "codemirror_mode": {
    "name": "ipython",
    "version": 3
   },
   "file_extension": ".py",
   "mimetype": "text/x-python",
   "name": "python",
   "nbconvert_exporter": "python",
   "pygments_lexer": "ipython3",
   "version": "3.10.4"
  },
  "orig_nbformat": 4
 },
 "nbformat": 4,
 "nbformat_minor": 2
}
