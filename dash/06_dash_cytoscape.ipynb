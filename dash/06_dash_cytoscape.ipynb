{
 "cells": [
  {
   "cell_type": "markdown",
   "metadata": {},
   "source": [
    "## Dash Cytoscape"
   ]
  },
  {
   "cell_type": "markdown",
   "metadata": {},
   "source": [
    "Dash Cytoscape - это компонент модуль для создания легко настраиваемых, высокопроизводительных, интерактивных и веб-визуализаций сетей. Он использует Cytoscape.js, хорошо интегрирован с макетами Dash и обратными вызовами."
   ]
  },
  {
   "cell_type": "markdown",
   "metadata": {},
   "source": [
    "Элемент (узел или связь) описывается словарем. Ключи:\n",
    "* `data` - характеристики элемента (ID, Label, ...)\n",
    "    * для ребер `data` должен содержать ключи `source` и `target`\n",
    "* `position` - координаты (только для узлов)\n",
    "* булевы атрибуты:\n",
    "    * `locked` - True, если позицию узла нельзя менять\n",
    "    * `selected` - True, если элемент выбран сразу после инициализации\n",
    "    * `selectable` - True, если элемент может быть выбран\n",
    "    * `grabbable` -  True, сли узел может быть захвачен и перемещен пользователем\n",
    "* `classes` - класс или классы элемента (через пробел)"
   ]
  },
  {
   "cell_type": "markdown",
   "metadata": {},
   "source": [
    "Подобно классам CSS, классы элементов используются для стилизации групп элементов с помощью селектора. Элементу можно присвоить  класс или несколько классов (разделенных пробелом)."
   ]
  },
  {
   "cell_type": "code",
   "execution_count": 22,
   "metadata": {},
   "outputs": [
    {
     "name": "stdout",
     "output_type": "stream",
     "text": [
      "Overwriting 06_dash_cytoscape/path.py\n"
     ]
    }
   ],
   "source": [
    "%%file 06_dash_cytoscape/path.py\n",
    "from dash import Dash, html, dcc\n",
    "import dash_cytoscape as cyto\n",
    "import networkx as nx\n",
    "G = nx.karate_club_graph()\n",
    "pos = nx.spring_layout(G, seed=42)\n",
    "\n",
    "my_stylesheet = [\n",
    "    # Стиль для узлов\n",
    "    {\n",
    "        'selector': 'node',\n",
    "        'style': {\n",
    "            'content': 'data(label)'\n",
    "        }\n",
    "    },\n",
    "    # Стиль для классов\n",
    "    {\n",
    "        'selector': '.red',\n",
    "        'style': {\n",
    "            'background-color': 'red',\n",
    "            'line-color': 'red'\n",
    "        }\n",
    "    },\n",
    "    {\n",
    "        'selector': '.triangle',\n",
    "        'style': {\n",
    "            'shape': 'triangle'\n",
    "        }\n",
    "    }\n",
    "]\n",
    "\n",
    "\n",
    "app = Dash(__name__)\n",
    "\n",
    "app.layout = html.Div([\n",
    "    cyto.Cytoscape(\n",
    "        id='cytoscape-two-nodes',\n",
    "        layout={'name': 'preset'}, # располагает в соответствии с координатами узлов\n",
    "        style={'width': '100%', 'height': '800px'},\n",
    "        stylesheet=my_stylesheet, # описание всех используемых классов\n",
    "        elements=[\n",
    "            {\"data\": {\"id\": 0, \"label\": \"0 (locked)\"}, \"position\": {\"x\": 0, \"y\": 0}, \"locked\": True, \"classes\": \"red\"},\n",
    "            {\"data\": {\"id\": 1, \"label\": \"1 (selected)\"}, \"position\": {\"x\": 150, \"y\": 0}, \"selected\": True, \"classes\": \"triangle\"},\n",
    "            {\"data\": {\"id\": 2, \"label\": \"2 (!selectable)\"}, \"position\": {\"x\": 250, \"y\": 0}, \"selectable\": False, \"classes\": \"triangle\"},\n",
    "            {\"data\": {\"id\": 3, \"label\": \"3 (!grabbable)\"}, \"position\": {\"x\": 350, \"y\": 0}, \"grabbable\": False, \"classes\": \"red\"},\n",
    "            {\"data\": {\"source\": 0, \"target\": 1}},\n",
    "            {\"data\": {\"source\": 1, \"target\": 2}},\n",
    "            {\"data\": {\"source\": 2, \"target\": 3}},\n",
    "        ]\n",
    "    )\n",
    "])\n",
    "\n",
    "if __name__ == '__main__':\n",
    "    app.run_server(debug=True)"
   ]
  },
  {
   "cell_type": "markdown",
   "metadata": {},
   "source": [
    "![Cyto Path](06_dash_cytoscape/cyto_path.png)"
   ]
  },
  {
   "cell_type": "markdown",
   "metadata": {},
   "source": [
    "## Составные узлы"
   ]
  },
  {
   "cell_type": "markdown",
   "metadata": {},
   "source": [
    "Составные узлы - это узлы, которые содержат (родительские) или содержатся (дочерние) внутри другого узла. Родительский узел не имеет ни позиции, ни размера, поскольку эти значения автоматически вычисляются на основе того, как настроены дочерние узлы."
   ]
  },
  {
   "cell_type": "code",
   "execution_count": 21,
   "metadata": {},
   "outputs": [
    {
     "name": "stdout",
     "output_type": "stream",
     "text": [
      "Overwriting 06_dash_cytoscape/compound.py\n"
     ]
    }
   ],
   "source": [
    "%%file 06_dash_cytoscape/compound.py\n",
    "from dash import Dash, html, dcc\n",
    "import dash_cytoscape as cyto\n",
    "import networkx as nx\n",
    "G = nx.karate_club_graph()\n",
    "pos = nx.spring_layout(G, seed=42)\n",
    "\n",
    "app = Dash(__name__)\n",
    "\n",
    "app.layout = html.Div([\n",
    "    cyto.Cytoscape(\n",
    "        id='cytoscape-two-nodes',\n",
    "        layout={'name': 'preset'}, # располагает в соответствии с координатами узлов\n",
    "        style={'width': '100%', 'height': '800px'},\n",
    "        stylesheet=[ # описание всех используемых классов\n",
    "            {\n",
    "                'selector': 'node',\n",
    "                'style': {\n",
    "                    'content': 'data(label)'\n",
    "                },\n",
    "            },\n",
    "            {\n",
    "                'selector': '.countries',\n",
    "                'style': {\n",
    "                    'width': 5\n",
    "                }\n",
    "            },\n",
    "            {\n",
    "                'selector': '.cities',\n",
    "                'style': {\n",
    "                    'line-style': 'dashed'\n",
    "                }\n",
    "            },\n",
    "        ], \n",
    "        elements=[\n",
    "            # родительские узлы\n",
    "            {\"data\": {\"id\": \"rus\", \"label\": \"Россия\"}},\n",
    "            {\"data\": {\"id\": \"br\", \"label\": \"Беларусь\"}},\n",
    "            # дочерние узлы\n",
    "            {\"data\": {\"id\": \"mos\", \"label\": \"Москва\", \"parent\": \"rus\"}, \"position\": {\"x\": 100, \"y\": 100}},\n",
    "            {\"data\": {\"id\": \"dg\", \"label\": \"Долгопрудный\", \"parent\": \"rus\"}, \"position\": {\"x\": 100, \"y\": 200}},\n",
    "            {\"data\": {\"id\": \"min\", \"label\": \"Минск\", \"parent\": \"br\"}, \"position\": {\"x\": 400, \"y\": 200}},\n",
    "            # связи\n",
    "            {\"data\": {\"source\": \"rus\", \"target\": \"br\"}, \"classes\": \"countries\"},\n",
    "            {\"data\": {\"source\": \"dg\", \"target\": \"mos\"}, \"classes\": \"cities\"},\n",
    "            {\"data\": {\"source\": \"min\", \"target\": \"mos\"}, \"classes\": \"cities\"},\n",
    "            \n",
    "        ]\n",
    "    )\n",
    "])\n",
    "\n",
    "if __name__ == '__main__':\n",
    "    app.run_server(debug=True)"
   ]
  },
  {
   "cell_type": "markdown",
   "metadata": {},
   "source": [
    "![Cyto Compound](06_dash_cytoscape/cyto_compound.png)"
   ]
  },
  {
   "cell_type": "markdown",
   "metadata": {},
   "source": [
    "## Макеты"
   ]
  },
  {
   "cell_type": "markdown",
   "metadata": {},
   "source": [
    "Макет определяет, как узлы будут расположены на экране. При создании трейса `cyto.Cytoscape` нужно указать аргумент `layout` в виде словаря, в котором обязательно должен быть ключ `name`. Значение `name` может быть следующим ([документация](https://js.cytoscape.org/#layouts)):\n",
    "* preset - расположение на основе заданных координат\n",
    "* random - в произвольных положениях в окне просмотра\n",
    "* grid - в виде сетки\n",
    "* circle - в виде окружности\n",
    "* concentric - в виде концентрических окружностей\n",
    "* breathfirst - в виде иерархии (подход для деревьев)\n",
    "* cose - на основе физ. симуляции.\n",
    "\n",
    "Каждый из этих макетов имеет дополнительные аргументы, которые влияют на работу алгоритма (кол-во столбцов и строк для решетки, откуда начинать выполнять BFS и т.д.)\n"
   ]
  },
  {
   "cell_type": "code",
   "execution_count": 32,
   "metadata": {},
   "outputs": [
    {
     "name": "stdout",
     "output_type": "stream",
     "text": [
      "Overwriting 06_dash_cytoscape/layout.py\n"
     ]
    }
   ],
   "source": [
    "%%file 06_dash_cytoscape/layout.py\n",
    "from dash import Dash, html, dcc\n",
    "import dash_cytoscape as cyto\n",
    "import networkx as nx\n",
    "import math\n",
    "\n",
    "def city_graph():\n",
    "    nodes = [\n",
    "        {\n",
    "            'data': {'id': short, 'label': label},\n",
    "            'position': {'x': 20 * lat, 'y': -20 * long}\n",
    "        }\n",
    "        for short, label, long, lat in (\n",
    "            ('la', 'Los Angeles', 34.03, -118.25),\n",
    "            ('nyc', 'New York', 40.71, -74),\n",
    "            ('to', 'Toronto', 43.65, -79.38),\n",
    "            ('mtl', 'Montreal', 45.50, -73.57),\n",
    "            ('van', 'Vancouver', 49.28, -123.12),\n",
    "            ('chi', 'Chicago', 41.88, -87.63),\n",
    "            ('bos', 'Boston', 42.36, -71.06),\n",
    "            ('hou', 'Houston', 29.76, -95.37)\n",
    "        )\n",
    "    ]\n",
    "\n",
    "    edges = [\n",
    "        {'data': {'source': source, 'target': target}}\n",
    "        for source, target in (\n",
    "            ('van', 'la'),\n",
    "            ('la', 'chi'),\n",
    "            ('hou', 'chi'),\n",
    "            ('to', 'mtl'),\n",
    "            ('mtl', 'bos'),\n",
    "            ('nyc', 'bos'),\n",
    "            ('to', 'hou'),\n",
    "            ('to', 'nyc'),\n",
    "            ('la', 'nyc'),\n",
    "            ('nyc', 'bos')\n",
    "        )\n",
    "    ]\n",
    "    elements = nodes + edges\n",
    "    return elements\n",
    "\n",
    "\n",
    "app = Dash(\n",
    "    __name__,\n",
    "    external_stylesheets = ['https://codepen.io/chriddyp/pen/bWLwgP.css']\n",
    ")\n",
    "elements = city_graph()\n",
    "\n",
    "app.layout = html.Div([\n",
    "        html.Div(\n",
    "            [\n",
    "                html.Div([\n",
    "                    'cytoscape-grid',\n",
    "                    cyto.Cytoscape(\n",
    "                        id='cytoscape-grid',\n",
    "                        elements=elements,\n",
    "                        style={'width': '100%', 'height': '350px'},\n",
    "                        layout={\n",
    "                            'name': 'grid',\n",
    "                            'rows': 3\n",
    "                        }\n",
    "                    )\n",
    "                ], className=\"four columns\"),\n",
    "                html.Div([\n",
    "                    'cytoscape-circle',\n",
    "                    cyto.Cytoscape(\n",
    "                        id='cytoscape-circle',\n",
    "                        elements=elements,\n",
    "                        style={'width': '100%', 'height': '350px'},\n",
    "                        layout={\n",
    "                            'name': 'circle',\n",
    "                            'radius': 250,\n",
    "                            'startAngle': math.pi * 1 / 6,\n",
    "                            'sweep': math.pi * 2 / 3\n",
    "                        }\n",
    "                    )\n",
    "                ], className=\"four columns\"),\n",
    "                html.Div([\n",
    "                    'cytoscape-breadthfirst1',\n",
    "                    cyto.Cytoscape(\n",
    "                        id='cytoscape-breadthfirst1',\n",
    "                        elements=elements,\n",
    "                        style={'width': '100%', 'height': '350px'},\n",
    "                        layout={\n",
    "                            'name': 'breadthfirst',\n",
    "                            'roots': '[id = \"nyc\"]' # специальный синтаксис для указания ID узлов \n",
    "                        }\n",
    "                    )\n",
    "                ], className=\"four columns\"),\n",
    "            ],\n",
    "            className='Row'\n",
    "        ),\n",
    "        html.Div(\n",
    "            [\n",
    "                html.Div([\n",
    "                    'cytoscape-breadthfirst2',\n",
    "                    cyto.Cytoscape(\n",
    "                        id='cytoscape-breadthfirst2',\n",
    "                        elements=elements,\n",
    "                        style={'width': '100%', 'height': '350px'},\n",
    "                        layout={\n",
    "                            'name': 'breadthfirst',\n",
    "                            'roots': '#van, #mtl' # специальный синтаксис для указания ID узлов \n",
    "                        }\n",
    "                    )\n",
    "                ], className=\"four columns\"),\n",
    "                html.Div([\n",
    "                    'cytoscape-cose',\n",
    "                    cyto.Cytoscape(\n",
    "                        id='cytoscape-cose',\n",
    "                        elements=elements,\n",
    "                        style={'width': '100%', 'height': '350px'},\n",
    "                        layout={\n",
    "                            'name': 'cose'\n",
    "                        }\n",
    "                    )\n",
    "                ], className=\"four columns\"),\n",
    "            ],\n",
    "            className=\"Row\"\n",
    "        )\n",
    "    ]\n",
    ")\n",
    "\n",
    "if __name__ == '__main__':\n",
    "    app.run_server(debug=True)\n"
   ]
  },
  {
   "cell_type": "markdown",
   "metadata": {},
   "source": [
    "![Cyto Layout](06_dash_cytoscape/cyto_layout.png)"
   ]
  },
  {
   "cell_type": "code",
   "execution_count": null,
   "metadata": {},
   "outputs": [],
   "source": []
  },
  {
   "cell_type": "code",
   "execution_count": null,
   "metadata": {},
   "outputs": [],
   "source": []
  },
  {
   "cell_type": "code",
   "execution_count": null,
   "metadata": {},
   "outputs": [],
   "source": []
  },
  {
   "cell_type": "code",
   "execution_count": null,
   "metadata": {},
   "outputs": [],
   "source": []
  }
 ],
 "metadata": {
  "interpreter": {
   "hash": "fa244bf25eaa98cfea2fade376754e5b5749df6baa02601f22dbb1bf59fecb7b"
  },
  "kernelspec": {
   "display_name": "Python 3.10.4 ('pypa')",
   "language": "python",
   "name": "python3"
  },
  "language_info": {
   "codemirror_mode": {
    "name": "ipython",
    "version": 3
   },
   "file_extension": ".py",
   "mimetype": "text/x-python",
   "name": "python",
   "nbconvert_exporter": "python",
   "pygments_lexer": "ipython3",
   "version": "3.10.4"
  },
  "orig_nbformat": 4
 },
 "nbformat": 4,
 "nbformat_minor": 2
}
