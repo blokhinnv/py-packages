{
 "cells": [
  {
   "cell_type": "markdown",
   "metadata": {},
   "source": [
    "## SQLAlchemy Expression Language"
   ]
  },
  {
   "cell_type": "markdown",
   "metadata": {},
   "source": [
    "SQA EL - представляет собой систему представления структур и выражений реляционных баз данных с использованием конструкций Python. Эти конструкции похожи на соответствующие структуры, при этом дают некоторую абстракцию для работы с различными бэкэндами.\n",
    "\n",
    "Язык выражений представляет метод написания SQL-выражений, нейтральных к серверной части, но при этом с возможностью использовать фишек соответствующего бэка.\n",
    "\n",
    "EL отличается от API ORM, который основан на EL. ORM - более верхнеуровневый способ работы с БД и фактически является приложением EL, в то время как EL - это система примитивных конструкций."
   ]
  },
  {
   "cell_type": "markdown",
   "metadata": {},
   "source": [
    "### Создание таблиц"
   ]
  },
  {
   "cell_type": "code",
   "execution_count": 2,
   "metadata": {},
   "outputs": [],
   "source": [
    "import sqlalchemy\n",
    "from sqlalchemy import create_engine"
   ]
  },
  {
   "cell_type": "markdown",
   "metadata": {},
   "source": [
    "Для работы используем in-memory SQLite DB. "
   ]
  },
  {
   "cell_type": "code",
   "execution_count": 5,
   "metadata": {},
   "outputs": [],
   "source": [
    "# engine - это ключевой интерфейс к БД, адаптированный в соответствии с диалектом\n",
    "engine = create_engine(\n",
    "    'sqlite:///:memory:', \n",
    "    echo=True # позволяет видеть все SQL запросы по ходу выполнения\n",
    ")"
   ]
  },
  {
   "cell_type": "markdown",
   "metadata": {},
   "source": [
    "EL часто подразумевает работу с колонками таблиц. Набор таблиц и их дочерних элементов называется метаданными базы данных. \n",
    "\n",
    "Сейчас мы будем создавать таблицы вручную, но SQA может \"импортировать\" наборы таблиц из существующей БД при помощи механизма reflection."
   ]
  },
  {
   "cell_type": "code",
   "execution_count": 6,
   "metadata": {},
   "outputs": [
    {
     "name": "stdout",
     "output_type": "stream",
     "text": [
      "2022-07-22 14:18:54,432 INFO sqlalchemy.engine.Engine BEGIN (implicit)\n",
      "2022-07-22 14:18:54,433 INFO sqlalchemy.engine.Engine PRAGMA main.table_info(\"users\")\n",
      "2022-07-22 14:18:54,434 INFO sqlalchemy.engine.Engine [raw sql] ()\n",
      "2022-07-22 14:18:54,435 INFO sqlalchemy.engine.Engine PRAGMA temp.table_info(\"users\")\n",
      "2022-07-22 14:18:54,436 INFO sqlalchemy.engine.Engine [raw sql] ()\n",
      "2022-07-22 14:18:54,437 INFO sqlalchemy.engine.Engine PRAGMA main.table_info(\"addresses\")\n",
      "2022-07-22 14:18:54,438 INFO sqlalchemy.engine.Engine [raw sql] ()\n",
      "2022-07-22 14:18:54,440 INFO sqlalchemy.engine.Engine PRAGMA temp.table_info(\"addresses\")\n",
      "2022-07-22 14:18:54,441 INFO sqlalchemy.engine.Engine [raw sql] ()\n",
      "2022-07-22 14:18:54,442 INFO sqlalchemy.engine.Engine \n",
      "CREATE TABLE users (\n",
      "\tid INTEGER NOT NULL, \n",
      "\tname VARCHAR, \n",
      "\tfullname VARCHAR, \n",
      "\tPRIMARY KEY (id)\n",
      ")\n",
      "\n",
      "\n",
      "2022-07-22 14:18:54,443 INFO sqlalchemy.engine.Engine [no key 0.00103s] ()\n",
      "2022-07-22 14:18:54,463 INFO sqlalchemy.engine.Engine \n",
      "CREATE TABLE addresses (\n",
      "\tid INTEGER NOT NULL, \n",
      "\tuser_id INTEGER, \n",
      "\temail_address VARCHAR NOT NULL, \n",
      "\tPRIMARY KEY (id), \n",
      "\tFOREIGN KEY(user_id) REFERENCES users (id)\n",
      ")\n",
      "\n",
      "\n",
      "2022-07-22 14:18:54,464 INFO sqlalchemy.engine.Engine [no key 0.00092s] ()\n",
      "2022-07-22 14:18:54,465 INFO sqlalchemy.engine.Engine COMMIT\n"
     ]
    }
   ],
   "source": [
    "from sqlalchemy import Table, Column, Integer, String, MetaData, ForeignKey\n",
    "metadata_obj = MetaData() # метаданные БД\n",
    "# описываем 2 объекта, соответсвующие будущим таблицам\n",
    "users = Table(\n",
    "  'users', \n",
    "  metadata_obj,\n",
    "  Column('id', Integer, primary_key=True),\n",
    "  Column('name', String),\n",
    "  Column('fullname', String),\n",
    ")\n",
    "\n",
    "addresses = Table('addresses', \n",
    "  metadata_obj,\n",
    "  Column('id', Integer, primary_key=True),\n",
    "  Column('user_id', None, ForeignKey('users.id')),\n",
    "  Column('email_address', String, nullable=False)\n",
    ")\n",
    "# создаем таблицы\n",
    "metadata_obj.create_all(engine)"
   ]
  },
  {
   "cell_type": "markdown",
   "metadata": {},
   "source": [
    "Для добавления записи создаем statement. По умолчанию мы должны предоставить все столбцы, но это можно настроить."
   ]
  },
  {
   "cell_type": "code",
   "execution_count": 7,
   "metadata": {},
   "outputs": [
    {
     "name": "stdout",
     "output_type": "stream",
     "text": [
      "INSERT INTO users (id, name, fullname) VALUES (:id, :name, :fullname)\n"
     ]
    }
   ],
   "source": [
    "ins_stmt = users.insert()\n",
    "print(ins_stmt)"
   ]
  },
  {
   "cell_type": "code",
   "execution_count": 9,
   "metadata": {},
   "outputs": [
    {
     "name": "stdout",
     "output_type": "stream",
     "text": [
      "INSERT INTO users (name, fullname) VALUES (:name, :fullname)\n"
     ]
    }
   ],
   "source": [
    "data = {'name': 'jack', 'fullname': 'Jack Jones'}\n",
    "ins_stmt = users.insert().values(**data)\n",
    "# данные не отображаются в запросе сейчас, но хранятся в statement\n",
    "print(ins_stmt)"
   ]
  },
  {
   "cell_type": "markdown",
   "metadata": {},
   "source": [
    "Для выполнения команды нужно создать объект подключения."
   ]
  },
  {
   "cell_type": "code",
   "execution_count": 12,
   "metadata": {},
   "outputs": [
    {
     "name": "stdout",
     "output_type": "stream",
     "text": [
      "2022-07-22 14:25:33,077 INFO sqlalchemy.engine.Engine INSERT INTO users (name, fullname) VALUES (?, ?)\n",
      "2022-07-22 14:25:33,079 INFO sqlalchemy.engine.Engine [cached since 78.52s ago] ('jack', 'Jack Jones')\n",
      "2022-07-22 14:25:33,080 INFO sqlalchemy.engine.Engine COMMIT\n"
     ]
    },
    {
     "data": {
      "text/plain": [
       "(2,)"
      ]
     },
     "execution_count": 12,
     "metadata": {},
     "output_type": "execute_result"
    }
   ],
   "source": [
    "conn = engine.connect() # объект-подключение\n",
    "result = conn.execute(ins_stmt) # курсор, содержащий информацию о работе запроса\n",
    "result.inserted_primary_key"
   ]
  },
  {
   "cell_type": "code",
   "execution_count": 13,
   "metadata": {},
   "outputs": [
    {
     "name": "stdout",
     "output_type": "stream",
     "text": [
      "2022-07-22 14:27:10,822 INFO sqlalchemy.engine.Engine INSERT INTO users (id, name, fullname) VALUES (?, ?, ?)\n",
      "2022-07-22 14:27:10,823 INFO sqlalchemy.engine.Engine [generated in 0.00151s] (3, 'wendy', 'Wendy Will')\n",
      "2022-07-22 14:27:10,825 INFO sqlalchemy.engine.Engine COMMIT\n"
     ]
    },
    {
     "data": {
      "text/plain": [
       "<sqlalchemy.engine.cursor.LegacyCursorResult at 0x20effadb460>"
      ]
     },
     "execution_count": 13,
     "metadata": {},
     "output_type": "execute_result"
    }
   ],
   "source": [
    "# еще один способ добавления записи\n",
    "data = {'id': 3, 'name': 'wendy', 'fullname': 'Wendy Will'}\n",
    "conn.execute(\n",
    "    users.insert(),\n",
    "    data\n",
    ")"
   ]
  },
  {
   "cell_type": "code",
   "execution_count": 14,
   "metadata": {},
   "outputs": [
    {
     "name": "stdout",
     "output_type": "stream",
     "text": [
      "2022-07-22 14:28:02,030 INFO sqlalchemy.engine.Engine INSERT INTO addresses (user_id, email_address) VALUES (?, ?)\n",
      "2022-07-22 14:28:02,032 INFO sqlalchemy.engine.Engine [generated in 0.00155s] ((1, 'jack@yahoo.com'), (1, 'jack@msn.com'), (2, 'www@www.org'), (2, 'wendy@aol.com'))\n",
      "2022-07-22 14:28:02,034 INFO sqlalchemy.engine.Engine COMMIT\n"
     ]
    },
    {
     "data": {
      "text/plain": [
       "<sqlalchemy.engine.cursor.LegacyCursorResult at 0x20effad9870>"
      ]
     },
     "execution_count": 14,
     "metadata": {},
     "output_type": "execute_result"
    }
   ],
   "source": [
    "# добавление множества записей\n",
    "# все словари должны содержать одинаковые ключи\n",
    "data = [\n",
    "   {'user_id': 1, 'email_address' : 'jack@yahoo.com'},\n",
    "   {'user_id': 1, 'email_address' : 'jack@msn.com'},\n",
    "   {'user_id': 2, 'email_address' : 'www@www.org'},\n",
    "   {'user_id': 2, 'email_address' : 'wendy@aol.com'},\n",
    "]\n",
    "\n",
    "conn.execute(\n",
    "    addresses.insert(),\n",
    "    data\n",
    ")"
   ]
  },
  {
   "cell_type": "markdown",
   "metadata": {},
   "source": [
    "### Выборки"
   ]
  },
  {
   "cell_type": "markdown",
   "metadata": {},
   "source": [
    "Основной конструкцией, используемой для генерации операторов SELECT, является функция select()"
   ]
  },
  {
   "cell_type": "code",
   "execution_count": 35,
   "metadata": {},
   "outputs": [
    {
     "name": "stdout",
     "output_type": "stream",
     "text": [
      "2022-07-22 20:12:47,700 INFO sqlalchemy.engine.Engine SELECT users.id, users.name, users.fullname \n",
      "FROM users\n",
      "2022-07-22 20:12:47,701 INFO sqlalchemy.engine.Engine [cached since 2.058e+04s ago] ()\n",
      "result=[(1, 'jack', 'Jack Jones'), (2, 'jack', 'Jack Jones'), (3, 'wendy', 'Wendy Will')]\n",
      "result[0].id=1\n",
      "dict(result[0])={'id': 1, 'name': 'jack', 'fullname': 'Jack Jones'}\n",
      "result_dicts=[{'id': 1, 'name': 'jack', 'fullname': 'Jack Jones'}, {'id': 2, 'name': 'jack', 'fullname': 'Jack Jones'}, {'id': 3, 'name': 'wendy', 'fullname': 'Wendy Will'}]\n"
     ]
    }
   ],
   "source": [
    "from sqlalchemy.sql import select\n",
    "cursor = conn.execute(\n",
    "    select(users),\n",
    ")\n",
    "result = list(cursor) \n",
    "# после того, как курсор исчерпан, он автоматически закроется\n",
    "# но это можно сделать и явно\n",
    "cursor.close()\n",
    "# по умолчанию возвращает строчки в виде похожих на namedtuple объектоа\n",
    "print(f'{result=}')\n",
    "print(f'{result[0].id=}')\n",
    "print(f'{dict(result[0])=}')\n",
    "# можно получить строчки в виде словарей при помощи поля ._mapping\n",
    "result_dicts =[r._mapping for r in result]\n",
    "print(f'{result_dicts=}')"
   ]
  },
  {
   "cell_type": "code",
   "execution_count": 28,
   "metadata": {},
   "outputs": [
    {
     "name": "stdout",
     "output_type": "stream",
     "text": [
      "row['id']=1\n",
      "row[users.c.id]=1\n"
     ]
    }
   ],
   "source": [
    "row = result_dicts[0]\n",
    "# можно обращаться по названию поля\n",
    "print(f\"{row['id']=}\")\n",
    "# можно обращаться, используя объект Column\n",
    "print(f\"{row[users.c.id]=}\")"
   ]
  },
  {
   "cell_type": "markdown",
   "metadata": {},
   "source": [
    "В функцию `select` можно передавать список столбцов, причем из разных таблиц (или список таблиц). Нужно быть очень аккуратным, т.к. перечисление столбцов из разных таблиц без доп. условий фактически означает декартово произведение строк."
   ]
  },
  {
   "cell_type": "code",
   "execution_count": 36,
   "metadata": {},
   "outputs": [
    {
     "name": "stdout",
     "output_type": "stream",
     "text": [
      "2022-07-22 20:52:38,754 INFO sqlalchemy.engine.Engine SELECT users.id, users.name, users.fullname, addresses.id AS id_1, addresses.user_id, addresses.email_address \n",
      "FROM users, addresses\n",
      "2022-07-22 20:52:38,756 INFO sqlalchemy.engine.Engine [generated in 0.00147s] ()\n"
     ]
    },
    {
     "name": "stderr",
     "output_type": "stream",
     "text": [
      "C:\\Users\\Nikita\\AppData\\Local\\Temp\\ipykernel_3824\\1968581075.py:1: SAWarning: SELECT statement has a cartesian product between FROM element(s) \"users\" and FROM element \"addresses\".  Apply join condition(s) between each element to resolve.\n",
      "  conn.execute(\n"
     ]
    },
    {
     "data": {
      "text/plain": [
       "<sqlalchemy.engine.cursor.LegacyCursorResult at 0x20effc7e230>"
      ]
     },
     "execution_count": 36,
     "metadata": {},
     "output_type": "execute_result"
    }
   ],
   "source": [
    "conn.execute(\n",
    "    select(users, addresses)\n",
    ")"
   ]
  },
  {
   "cell_type": "markdown",
   "metadata": {},
   "source": [
    "Чтобы получить корректное объединение, нужно добавить условие WHERE."
   ]
  },
  {
   "cell_type": "code",
   "execution_count": 37,
   "metadata": {},
   "outputs": [
    {
     "name": "stdout",
     "output_type": "stream",
     "text": [
      "2022-07-22 20:53:39,687 INFO sqlalchemy.engine.Engine SELECT users.id, users.name, users.fullname, addresses.id AS id_1, addresses.user_id, addresses.email_address \n",
      "FROM users, addresses \n",
      "WHERE users.id = addresses.user_id\n",
      "2022-07-22 20:53:39,689 INFO sqlalchemy.engine.Engine [generated in 0.00140s] ()\n"
     ]
    },
    {
     "data": {
      "text/plain": [
       "<sqlalchemy.engine.cursor.LegacyCursorResult at 0x20effaa2f20>"
      ]
     },
     "execution_count": 37,
     "metadata": {},
     "output_type": "execute_result"
    }
   ],
   "source": [
    "conn.execute(\n",
    "    select(users, addresses).where(users.c.id == addresses.c.user_id)\n",
    ")"
   ]
  },
  {
   "cell_type": "markdown",
   "metadata": {},
   "source": [
    "Мы можем давать алиасы столбцам при помощи метода `label`"
   ]
  },
  {
   "cell_type": "code",
   "execution_count": 55,
   "metadata": {},
   "outputs": [
    {
     "name": "stdout",
     "output_type": "stream",
     "text": [
      "2022-07-22 21:07:06,642 INFO sqlalchemy.engine.Engine SELECT users.fullname AS title \n",
      "FROM users\n",
      "2022-07-22 21:07:06,643 INFO sqlalchemy.engine.Engine [cached since 27.5s ago] ()\n"
     ]
    },
    {
     "data": {
      "text/plain": [
       "[{'title': 'Jack Jones'}, {'title': 'Jack Jones'}, {'title': 'Wendy Will'}]"
      ]
     },
     "execution_count": 55,
     "metadata": {},
     "output_type": "execute_result"
    }
   ],
   "source": [
    "list(\n",
    "    map(\n",
    "        dict, \n",
    "        conn.execute(\n",
    "            select(\n",
    "                (users.c.fullname).label('title')\n",
    "            )\n",
    "        )\n",
    "    )\n",
    ")"
   ]
  },
  {
   "cell_type": "markdown",
   "metadata": {},
   "source": [
    "SQA позволяет создавать выражения при помощи обычных операторов.\n",
    "* операция над двумя столбцами порождает BinaryExpression\n",
    "* операция над столбцом и литералов порождает выражение с параметров\n",
    "* можно явно описывать операторы при помощи метода `.op`\n",
    "\n",
    "Стандартные операторы:\n",
    "* ==\n",
    "* !=\n",
    "* like (и регистронезависимая версия ilike)\n",
    "* in_\n",
    "* not_in\n",
    "* is_\n",
    "* is_not\n",
    "* and_ (или оператор &, или просто перечислить условия в `where` через запятую)\n",
    "* or_ (или оператор |)\n",
    "* not_ (или оператор ~)"
   ]
  },
  {
   "cell_type": "code",
   "execution_count": 42,
   "metadata": {},
   "outputs": [
    {
     "name": "stdout",
     "output_type": "stream",
     "text": [
      "users.id = addresses.user_id <class 'sqlalchemy.sql.elements.BinaryExpression'>\n"
     ]
    }
   ],
   "source": [
    "exp1 = users.c.id == addresses.c.user_id\n",
    "print(exp1, type(exp1))"
   ]
  },
  {
   "cell_type": "code",
   "execution_count": 44,
   "metadata": {},
   "outputs": [
    {
     "name": "stdout",
     "output_type": "stream",
     "text": [
      "users.id = :id_1\n",
      "users.id IS NULL\n",
      "users.id <> addresses.user_id\n"
     ]
    }
   ],
   "source": [
    "print(users.c.id == 7)\n",
    "print(users.c.id == None)\n",
    "print(users.c.id.op(\"<>\")(addresses.c.user_id))"
   ]
  },
  {
   "cell_type": "code",
   "execution_count": 51,
   "metadata": {},
   "outputs": [
    {
     "name": "stdout",
     "output_type": "stream",
     "text": [
      "users.id = :id_1 AND users.name LIKE :name_1 AND (addresses.email_address = :email_address_1 OR addresses.email_address = :email_address_2)\n"
     ]
    }
   ],
   "source": [
    "from sqlalchemy import and_, or_, not_\n",
    "print(\n",
    "    and_(\n",
    "        users.c.id == 7, \n",
    "        users.c.name.like('j%'),\n",
    "        or_(\n",
    "                addresses.c.email_address == 'wendy@aol.com',\n",
    "                addresses.c.email_address == 'jack@yahoo.com'\n",
    "        ),\n",
    "    )\n",
    ")"
   ]
  },
  {
   "cell_type": "code",
   "execution_count": 50,
   "metadata": {},
   "outputs": [
    {
     "name": "stdout",
     "output_type": "stream",
     "text": [
      "users.id = :id_1 AND users.name LIKE :name_1 AND (addresses.email_address = :email_address_1 OR addresses.email_address = :email_address_2)\n"
     ]
    }
   ],
   "source": [
    "from sqlalchemy import and_, or_, not_\n",
    "print(\n",
    "    and_(\n",
    "        (users.c.id == 7) & \n",
    "        (users.c.name.like('j%')) & \n",
    "        (\n",
    "            (addresses.c.email_address == 'wendy@aol.com')  | \n",
    "            (addresses.c.email_address == 'jack@yahoo.com')\n",
    "        ),\n",
    "    )\n",
    ")"
   ]
  },
  {
   "cell_type": "markdown",
   "metadata": {},
   "source": [
    "При необходимости можно выполнить запрос на языке SQL"
   ]
  },
  {
   "cell_type": "code",
   "execution_count": 58,
   "metadata": {},
   "outputs": [
    {
     "name": "stdout",
     "output_type": "stream",
     "text": [
      "2022-07-22 21:09:58,902 INFO sqlalchemy.engine.Engine SELECT users.fullname || ' -> ' || users.name AS title\n",
      "       FROM users\n",
      "       WHERE users.name BETWEEN ? AND ?\n",
      "2022-07-22 21:09:58,903 INFO sqlalchemy.engine.Engine [generated in 0.00164s] ('m', 'z')\n"
     ]
    },
    {
     "data": {
      "text/plain": [
       "[('Wendy Will -> wendy',)]"
      ]
     },
     "execution_count": 58,
     "metadata": {},
     "output_type": "execute_result"
    }
   ],
   "source": [
    "from sqlalchemy.sql import text\n",
    "s = text(\n",
    "    '''SELECT users.fullname || ' -> ' || users.name AS title\n",
    "       FROM users\n",
    "       WHERE users.name BETWEEN :x AND :y'''\n",
    ")\n",
    "conn.execute(s, {\"x\": \"m\", \"y\": \"z\"}).fetchall()\n"
   ]
  },
  {
   "cell_type": "markdown",
   "metadata": {},
   "source": [
    "При написании запросов мы можем столкнуться с проблемой, когда несколько колонок в результирующей таблице называются одинаково. Чтобы избежать проблем, мы можем явно указать, каким таблицам принадлежат столбцы."
   ]
  },
  {
   "cell_type": "code",
   "execution_count": 62,
   "metadata": {},
   "outputs": [
    {
     "name": "stdout",
     "output_type": "stream",
     "text": [
      "2022-07-22 21:14:18,451 INFO sqlalchemy.engine.Engine SELECT users.id, addresses.id, users.id, users.name, addresses.email_address AS email FROM users JOIN addresses ON users.id=addresses.user_id WHERE users.id = 1\n",
      "2022-07-22 21:14:18,452 INFO sqlalchemy.engine.Engine [cached since 61.03s ago] ()\n",
      "row[users.c.id]=1\n"
     ]
    }
   ],
   "source": [
    "stmt = text(\"SELECT users.id, addresses.id, users.id, \"\n",
    "    \"users.name, addresses.email_address AS email \"\n",
    "    \"FROM users JOIN addresses ON users.id=addresses.user_id \"\n",
    "    \"WHERE users.id = 1\").columns(\n",
    "       users.c.id,\n",
    "       addresses.c.id,\n",
    "       addresses.c.user_id,\n",
    "       users.c.name,\n",
    "       addresses.c.email_address\n",
    "    )\n",
    "result = conn.execute(stmt)\n",
    "row = result.fetchone()\n",
    "print(f'{row[users.c.id]=}')"
   ]
  },
  {
   "cell_type": "markdown",
   "metadata": {},
   "source": [
    "Мы можем комбинировать программный и текстовый подходы к созданию запросов"
   ]
  },
  {
   "cell_type": "code",
   "execution_count": 64,
   "metadata": {},
   "outputs": [
    {
     "name": "stdout",
     "output_type": "stream",
     "text": [
      "users.id == 7 AND users.name LIKE 'j%' AND (addresses.email_address == 'wendy@aol.com' OR addresses.email_address == 'jack@yahoo.com')\n"
     ]
    }
   ],
   "source": [
    "print(\n",
    "    and_(\n",
    "        text(\"users.id == 7\"), \n",
    "        text(\"users.name LIKE 'j%'\"),\n",
    "        or_(\n",
    "                text(\"addresses.email_address == 'wendy@aol.com'\"),\n",
    "                text(\"addresses.email_address == 'jack@yahoo.com'\")\n",
    "        ),\n",
    "    )\n",
    ")"
   ]
  },
  {
   "cell_type": "markdown",
   "metadata": {},
   "source": [
    "### Запросы с модификаторами"
   ]
  },
  {
   "cell_type": "markdown",
   "metadata": {},
   "source": [
    "Мы можем писать запросы с:\n",
    "* группировками (group_by + func) и фильтрами на них (having)\n",
    "* сортировками (order_by)\n",
    "* алиасами (.alias)\n",
    "* подзапросами (subquery)\n",
    "* ограничение на кол-во строк (limit) \n",
    "* сдвиг (offset)"
   ]
  },
  {
   "cell_type": "code",
   "execution_count": 66,
   "metadata": {},
   "outputs": [
    {
     "name": "stdout",
     "output_type": "stream",
     "text": [
      "2022-07-22 21:23:54,809 INFO sqlalchemy.engine.Engine SELECT addresses.user_id, count(addresses.id) AS num_addresses \n",
      "FROM addresses GROUP BY addresses.user_id ORDER BY addresses.user_id ASC, num_addresses DESC\n",
      "2022-07-22 21:23:54,810 INFO sqlalchemy.engine.Engine [generated in 0.00117s] ()\n"
     ]
    },
    {
     "data": {
      "text/plain": [
       "[(1, 2), (2, 2)]"
      ]
     },
     "execution_count": 66,
     "metadata": {},
     "output_type": "execute_result"
    }
   ],
   "source": [
    "from sqlalchemy import func, asc, desc\n",
    "stmt = select(\n",
    "        addresses.c.user_id,\n",
    "        func.count(addresses.c.id).label('num_addresses')\n",
    ").group_by(\"user_id\").order_by(\n",
    "        asc(\"user_id\"), \n",
    "        desc(\"num_addresses\")\n",
    ")\n",
    "\n",
    "conn.execute(stmt).fetchall()\n"
   ]
  },
  {
   "cell_type": "code",
   "execution_count": 89,
   "metadata": {},
   "outputs": [
    {
     "name": "stdout",
     "output_type": "stream",
     "text": [
      "SELECT addresses.user_id, count(addresses.id) AS num_addresses \n",
      "FROM addresses GROUP BY addresses.user_id \n",
      "HAVING length(addresses.user_id) > :length_1\n"
     ]
    }
   ],
   "source": [
    "from sqlalchemy import func, asc, desc\n",
    "print(\n",
    "    select(\n",
    "        addresses.c.user_id,\n",
    "        func.count(addresses.c.id).label('num_addresses')\n",
    "    ).group_by(addresses.c.user_id).having(\n",
    "            func.length(addresses.c.user_id) > 2\n",
    "    )\n",
    ")\n",
    "\n"
   ]
  },
  {
   "cell_type": "code",
   "execution_count": 70,
   "metadata": {},
   "outputs": [
    {
     "name": "stdout",
     "output_type": "stream",
     "text": [
      "SELECT a.id, a.user_id, a.email_address \n",
      "FROM addresses AS a \n",
      "WHERE a.id > :id_1\n"
     ]
    }
   ],
   "source": [
    "a1 = addresses.alias(\"a\")\n",
    "stmt = select(a1).where(a1.c.id > 5)\n",
    "print(stmt)"
   ]
  },
  {
   "cell_type": "code",
   "execution_count": 72,
   "metadata": {},
   "outputs": [
    {
     "name": "stdout",
     "output_type": "stream",
     "text": [
      "SELECT sq.id, sq.user_id, sq.email_address \n",
      "FROM (SELECT a.id AS id, a.user_id AS user_id, a.email_address AS email_address \n",
      "FROM addresses AS a \n",
      "WHERE a.id > :id_1) AS sq\n"
     ]
    }
   ],
   "source": [
    "subq = stmt.subquery(\"sq\")\n",
    "stmt2 = select(subq)\n",
    "print(stmt2)"
   ]
  },
  {
   "cell_type": "markdown",
   "metadata": {},
   "source": [
    "### Объединения"
   ]
  },
  {
   "cell_type": "markdown",
   "metadata": {},
   "source": [
    "Мы уже выполняли объединения в наших примерах, просто помещая две таблицы либо в предложение select. Но если мы хотим создать реальную конструкцию “JOIN” или “OUTERJOIN”, мы используем методы FromClause.join() и FromClause.outerjoin(), доступ к которым чаще всего осуществляется из левой таблицы в соединении."
   ]
  },
  {
   "cell_type": "code",
   "execution_count": 73,
   "metadata": {},
   "outputs": [
    {
     "name": "stdout",
     "output_type": "stream",
     "text": [
      "users JOIN addresses ON users.id = addresses.user_id\n"
     ]
    }
   ],
   "source": [
    "# SQA автоматически поняла, по каким полям объединить таблицы на основе внешнего \n",
    "# ключа из описания таблицы\n",
    "print(\n",
    "    users.join(addresses)\n",
    ")"
   ]
  },
  {
   "cell_type": "code",
   "execution_count": 75,
   "metadata": {},
   "outputs": [
    {
     "name": "stdout",
     "output_type": "stream",
     "text": [
      "users JOIN addresses ON users.id > addresses.user_id\n"
     ]
    }
   ],
   "source": [
    "# мы можем явно указать правило для объединения\n",
    "print(\n",
    "    users.join(\n",
    "        addresses, \n",
    "        users.c.id > addresses.c.user_id\n",
    "    )\n",
    ")"
   ]
  },
  {
   "cell_type": "code",
   "execution_count": 76,
   "metadata": {},
   "outputs": [
    {
     "name": "stdout",
     "output_type": "stream",
     "text": [
      "SELECT users.id \n",
      "FROM users JOIN addresses ON users.id > addresses.user_id\n"
     ]
    }
   ],
   "source": [
    "# для использования объединения таблиц в разделе FROM мы используем\n",
    "# select_from\n",
    "print(\n",
    "    select(users.c.id).select_from(\n",
    "        users.join(\n",
    "            addresses, \n",
    "            users.c.id > addresses.c.user_id\n",
    "        )\n",
    "    )\n",
    ")"
   ]
  },
  {
   "cell_type": "markdown",
   "metadata": {},
   "source": [
    "## Common table expressions"
   ]
  },
  {
   "cell_type": "markdown",
   "metadata": {},
   "source": [
    "CTE представляет собой временный именованный результирующий набор, на который можно ссылаться в инструкции SELECT, INSERT, UPDATE или DELETE. CTE также можно использовать в представлении. Конструкция CTE - отличный способ предоставить источник строк, семантически аналогичный использованию подзапроса, но с гораздо более простым форматом, где источник строк аккуратно спрятан в верхней части запроса, и на него можно ссылаться в любом месте основного оператора, как на обычную таблицу.\n",
    "\n",
    "SQLAlchemy поддерживает эту конструкцию через объект CTE, который обычно получают с помощью метода Select.cte() для конструкции Select."
   ]
  },
  {
   "cell_type": "code",
   "execution_count": 78,
   "metadata": {},
   "outputs": [
    {
     "name": "stdout",
     "output_type": "stream",
     "text": [
      "WITH my_cte AS \n",
      "(SELECT users.id AS id \n",
      "FROM users JOIN addresses ON users.id > addresses.user_id)\n",
      " SELECT my_cte.id \n",
      "FROM my_cte\n"
     ]
    }
   ],
   "source": [
    "cte_s = select(users.c.id).select_from(\n",
    "    users.join(\n",
    "        addresses, \n",
    "        users.c.id > addresses.c.user_id\n",
    "    )\n",
    ").cte(\"my_cte\")\n",
    "print(\n",
    "    select(cte_s)\n",
    ")"
   ]
  },
  {
   "cell_type": "markdown",
   "metadata": {},
   "source": [
    "## Другие возможности EL"
   ]
  },
  {
   "cell_type": "markdown",
   "metadata": {},
   "source": [
    "Мы можем именовать параметры запроса при помощи bindparam. Один и тот же параметр можно использовать несколько раз в запросе (достаточно указывать одинаковое имя)"
   ]
  },
  {
   "cell_type": "code",
   "execution_count": 81,
   "metadata": {},
   "outputs": [
    {
     "name": "stdout",
     "output_type": "stream",
     "text": [
      "2022-07-22 21:53:04,915 INFO sqlalchemy.engine.Engine SELECT users.id, users.name, users.fullname \n",
      "FROM users \n",
      "WHERE users.name = ?\n",
      "2022-07-22 21:53:04,917 INFO sqlalchemy.engine.Engine [cached since 40.52s ago] ('wendy',)\n"
     ]
    },
    {
     "data": {
      "text/plain": [
       "[(3, 'wendy', 'Wendy Will')]"
      ]
     },
     "execution_count": 81,
     "metadata": {},
     "output_type": "execute_result"
    }
   ],
   "source": [
    "from sqlalchemy.sql import bindparam\n",
    "s = users.select().where(users.c.name == bindparam('username', type_=String))\n",
    "conn.execute(s, {\"username\": \"wendy\"}).fetchall()\n"
   ]
  },
  {
   "cell_type": "markdown",
   "metadata": {},
   "source": [
    "Можно использовать существующие SQL-функции, которые лежат в пакете func, в том числе оконные функции"
   ]
  },
  {
   "cell_type": "code",
   "execution_count": 82,
   "metadata": {},
   "outputs": [
    {
     "name": "stdout",
     "output_type": "stream",
     "text": [
      "SELECT max(addresses.email_address) AS maxemail \n",
      "FROM addresses\n"
     ]
    }
   ],
   "source": [
    "print(\n",
    "    select(\n",
    "        func.max(addresses.c.email_address, type_=String).label('maxemail')\n",
    "    )\n",
    ")"
   ]
  },
  {
   "cell_type": "code",
   "execution_count": 84,
   "metadata": {},
   "outputs": [
    {
     "name": "stdout",
     "output_type": "stream",
     "text": [
      "SELECT users.id, row_number() OVER (ORDER BY users.name) AS num \n",
      "FROM users\n"
     ]
    }
   ],
   "source": [
    "print(\n",
    "    select(\n",
    "        users.c.id,\n",
    "        func.row_number().over(order_by=users.c.name).label(\"num\")\n",
    "    )\n",
    ")"
   ]
  },
  {
   "cell_type": "markdown",
   "metadata": {},
   "source": [
    "Доступны преобразования типов при помощи функции cast. Также доступна похожая функция type_coerce, которая отличается тем, что не добавляет выражение CAST в запрос."
   ]
  },
  {
   "cell_type": "code",
   "execution_count": 86,
   "metadata": {},
   "outputs": [
    {
     "name": "stdout",
     "output_type": "stream",
     "text": [
      "SELECT CAST(users.id AS VARCHAR) AS sid \n",
      "FROM users\n"
     ]
    }
   ],
   "source": [
    "from sqlalchemy import cast\n",
    "\n",
    "print(\n",
    "    select(\n",
    "        cast(\n",
    "            users.c.id, String\n",
    "        ).label(\"sid\")\n",
    "    )\n",
    ")"
   ]
  },
  {
   "cell_type": "markdown",
   "metadata": {},
   "source": [
    "Доступны теоретико-множественные операции над результирующими множествами:\n",
    "* union (union_all)\n",
    "* intersect (intersect_all)\n",
    "* except (except_all)"
   ]
  },
  {
   "cell_type": "code",
   "execution_count": 87,
   "metadata": {},
   "outputs": [
    {
     "name": "stdout",
     "output_type": "stream",
     "text": [
      "SELECT users.id \n",
      "FROM users \n",
      "WHERE users.id = :id_1 UNION SELECT users.id \n",
      "FROM users \n",
      "WHERE users.id = :id_2\n"
     ]
    }
   ],
   "source": [
    "from sqlalchemy import union\n",
    "print(\n",
    "    union(\n",
    "        select(users.c.id).where(users.c.id == 1),\n",
    "        select(users.c.id).where(users.c.id == 2),\n",
    "\n",
    "    )\n",
    ")"
   ]
  },
  {
   "cell_type": "markdown",
   "metadata": {},
   "source": [
    "## Обновление таблиц"
   ]
  },
  {
   "cell_type": "markdown",
   "metadata": {},
   "source": [
    "Для обновления используем метод `update`"
   ]
  },
  {
   "cell_type": "code",
   "execution_count": 92,
   "metadata": {},
   "outputs": [
    {
     "name": "stdout",
     "output_type": "stream",
     "text": [
      "UPDATE users SET name=:name WHERE users.name = :name_1\n"
     ]
    }
   ],
   "source": [
    "print(\n",
    "    users.update().where(users.c.name == 'a').values(name='b')\n",
    ")"
   ]
  },
  {
   "cell_type": "code",
   "execution_count": 93,
   "metadata": {},
   "outputs": [
    {
     "name": "stdout",
     "output_type": "stream",
     "text": [
      "UPDATE users SET name=:new WHERE users.name = :old\n"
     ]
    }
   ],
   "source": [
    "# можем использовать параметры\n",
    "print(\n",
    "    users.update().where(users.c.name == bindparam('old')).values(name=bindparam('new'))\n",
    ")\n",
    "conn.execute(\n",
    "    users.update().where(users.c.name == bindparam('old')).values(name=bindparam('new')),\n",
    "    [\n",
    "        {'oldname':'jack', 'newname':'ed'},\n",
    "        {'oldname':'wendy', 'newname':'mary'},\n",
    "    ]\n",
    ")"
   ]
  },
  {
   "cell_type": "markdown",
   "metadata": {},
   "source": [
    "## Удаление таблиц"
   ]
  },
  {
   "cell_type": "markdown",
   "metadata": {},
   "source": [
    "Для удаления используем метод `delete`"
   ]
  },
  {
   "cell_type": "code",
   "execution_count": 94,
   "metadata": {},
   "outputs": [
    {
     "name": "stdout",
     "output_type": "stream",
     "text": [
      "DELETE FROM addresses\n"
     ]
    }
   ],
   "source": [
    "print(\n",
    "    addresses.delete()\n",
    ")"
   ]
  },
  {
   "cell_type": "code",
   "execution_count": 96,
   "metadata": {},
   "outputs": [
    {
     "name": "stdout",
     "output_type": "stream",
     "text": [
      "DELETE FROM addresses WHERE addresses.id > :id_1\n"
     ]
    }
   ],
   "source": [
    "print(\n",
    "    addresses.delete().where(addresses.c.id > 5)\n",
    ")"
   ]
  }
 ],
 "metadata": {
  "kernelspec": {
   "display_name": "Python 3.10.4 ('pypa')",
   "language": "python",
   "name": "python3"
  },
  "language_info": {
   "codemirror_mode": {
    "name": "ipython",
    "version": 3
   },
   "file_extension": ".py",
   "mimetype": "text/x-python",
   "name": "python",
   "nbconvert_exporter": "python",
   "pygments_lexer": "ipython3",
   "version": "3.10.4"
  },
  "orig_nbformat": 4,
  "vscode": {
   "interpreter": {
    "hash": "40136658a84d32820f8b29ec59f8baeebbadd43b3a91788ebe2fb94f4681be82"
   }
  }
 },
 "nbformat": 4,
 "nbformat_minor": 2
}
