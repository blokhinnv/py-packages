{
 "cells": [
  {
   "cell_type": "markdown",
   "metadata": {},
   "source": [
    "# Использование DOM и Canvas для визуализации. WebGL."
   ]
  },
  {
   "cell_type": "markdown",
   "metadata": {},
   "source": [
    "## DOM vs Canvas"
   ]
  },
  {
   "cell_type": "markdown",
   "metadata": {},
   "source": [
    "Источники: [1](https://drabstract.medium.com/your-guide-to-when-to-use-a-javascript-canvas-library-or-framework-efb30d526797)\n",
    "\n",
    "С появлением HTML5 Javascript был разделен на 2 части: ядро языка и набор Web API. Два крупных Web API:\n",
    "1. DOM\n",
    "2. Canvas\n",
    "\n",
    "Несмотря на то, что `canvas` - это HTML тэг и формально часть DOM, он рассматривается отдельно из-за деталей реализации."
   ]
  },
  {
   "cell_type": "markdown",
   "metadata": {},
   "source": [
    "Canvas отризовывает битовую карту (bitmap), а Canvas API позволяет делать визуализации динамичными за счет изменении этой битовой карты при помощи JS.\n",
    "\n",
    "Canvas:\n",
    "* позволяет двигать объекты в свободной форме (хорошо для создания изображений и игр);\n",
    "* текст может быть добавлен на canvas и может быть сделан адаптивным, но не может быть выделен или найден при помощи поиска, как в случае DOM (но можно вынести текст в DOM);\n",
    "* canvas является частью HTML5 и позволяет своим пользователям создавать динамические 2D-фигуры, визуализируемые скриптом\n",
    "* интерактивность преобладает над навигацией.\n",
    "\n",
    "DOM:\n",
    "* удобно отображать информацию (особенно текстовую);\n",
    "* текст преобладает над изображениями, аудио и видео; навигация преобладает над интерактивностью.\n",
    "\n",
    "Пример интерактивной визуализации на canvas: https://dygraphs.com/"
   ]
  },
  {
   "cell_type": "markdown",
   "metadata": {},
   "source": [
    "![DOM/Canvas](https://miro.medium.com/max/700/1*93xRM1Iqm5PT-t8PfFnU1w.png)"
   ]
  },
  {
   "cell_type": "markdown",
   "metadata": {},
   "source": [
    "## WebGL"
   ]
  },
  {
   "cell_type": "markdown",
   "metadata": {},
   "source": [
    "Источники: [1](https://cambridge-intelligence.com/how-webgl-powers-ux/), [2](https://www.educba.com/webgl-vs-canvas/)"
   ]
  },
  {
   "cell_type": "markdown",
   "metadata": {},
   "source": [
    "WebGL - это кроссплатформенный компонент рендеринга для превосходной визуализации графики в браузере.\n",
    "\n",
    "WebGL - это версия OpenGL, который представляет собой 3D-движок. Он помогает своему пользователю выполнять 3D-манипуляции в веб-браузерах. \n",
    "\n",
    "Основная отличительная черта WebGL - производительность. WebGL увеличивает скорость работы на счет двух аспектов:\n",
    "* оптимизация вычислений;\n",
    "* полное задействование ресурсов (WebGL делает это, перекладывая большую часть тяжелой работы на GPU)"
   ]
  },
  {
   "cell_type": "markdown",
   "metadata": {},
   "source": [
    "Сравнение canvas и WebGL:\n",
    "* canvas - популярный универсальный API, в основном ориентирован на 2D-графику. \n",
    "* canvas поддерживается широким спектром устаревших браузеров, прост в использовании и поставляется со многими функциями из коробки\n",
    "* хотя это неплохой универсальный инструмент, он не такой гибкий и работает не так хорошо, как WebGL. \n",
    "* WebGL позволяет добиться лучшей частоты кадров.\n",
    "* canvas - это предшественник WebGL; WebGL появился в результате экспериментов по 3D визуализации на canvas;\n",
    "* canvas в основном используется для 2D изображений; WebGL - для 3D, но может работать и для 2D. \n",
    "* canvas и WebGL - оба являются JS API; \n",
    "* Canvas API намного проще в освоении и понимании, если пользователь хочет понимать и писать код с начального уровня (или с самого начала). Можно сказать, что для понимания canvas требуется минимальное понимание математики, в то время как WebGL нуждается в человеке, который хорошо разбирается в математике\n",
    "* при использовании готовых библиотек особой разницы с точки зрения сложности уже нет."
   ]
  },
  {
   "cell_type": "markdown",
   "metadata": {},
   "source": [
    "[Пример работы с canvas и WebGL](assets/canvas_webgl.html)"
   ]
  },
  {
   "cell_type": "markdown",
   "metadata": {},
   "source": [
    "## Работа с WebGL в Plotly"
   ]
  },
  {
   "cell_type": "markdown",
   "metadata": {},
   "source": [
    "Существует 2 альтернативных решения для рендеринга изображений веб-браузерами:\n",
    "1. SVG API: векторные изображения\n",
    "2. Canvas  API: растровые изображения, могут использовать GPU для ускорения за счет использования WebGL.\n",
    "\n",
    "Каждый тип трейсов в plotly в основном отображается либо в формате SVG, либо в WebGL, хотя трейсы на базе WebGL также используют некоторые элементы SVG.\n",
    "\n",
    "Следующие типы трейсов используют (возможно, частично) WebGL:\n",
    "* scattergl, scatterpolargl, heatmapgl - ускоренные версии \"обычных\" трейсов;\n",
    "* splom, parcoords - высокопроизводительные многомерные трейсы;\n",
    "* scatter3d, surface, mesh3d, .. - 3D трейсы\n",
    "\n",
    "Ограничения:\n",
    "* необходимость в наличии GPU\n",
    "* WebGL рисует сетку из пикселей, а не сами фигуры, т.е. могут быть проблемы с качеством\n",
    "* Текст рендерится по-разному для SVG и WebGL;\n",
    "* браузеры ограничивают кол-во WebGL контекстов на странице; в plotly, возможно, не получится отобразить более 8 рисунков с использованием WebGL на одной странице одновременно;\n",
    "* ограничения на размер фигуры.\n",
    "* некоторые различия в работе ускоренных и неускоренных версий"
   ]
  },
  {
   "cell_type": "markdown",
   "metadata": {},
   "source": [
    "## Примеры "
   ]
  },
  {
   "cell_type": "markdown",
   "metadata": {},
   "source": [
    "Первый вариант - отрисовать без использования WebGL. \n",
    "Результат:\n",
    "* все объекты - векторные, находятся в DOM в виде SVG-тэгов;\n",
    "* можно поменять стиль отдельного элемента;\n",
    "* тэга canvas на полотне нет.\n",
    "\n",
    "![PX без WebGL](assets/px_svg.png)"
   ]
  },
  {
   "cell_type": "code",
   "execution_count": 1,
   "metadata": {},
   "outputs": [],
   "source": [
    "import plotly.express as px\n",
    "import numpy as np\n",
    "import pandas as pd\n",
    "\n",
    "N = 100\n",
    "df = pd.DataFrame(\n",
    "    {\n",
    "        \"x\": np.random.randn(N),\n",
    "        \"y\": np.random.randn(N),\n",
    "    }\n",
    ")\n",
    "fig = px.scatter(df, x=\"x\", y=\"y\", render_mode='svg')\n",
    "fig.show(renderer='browser')"
   ]
  },
  {
   "cell_type": "markdown",
   "metadata": {},
   "source": [
    "Для использования WebGL можно передать аргумент `render_mode=\"webgl\"`.\n",
    "\n",
    "Режим рендеринга по умолчанию - \"auto\", и в этом случае Plotly Express автоматически установит `render_mode=\"webgl\"`, если длина входных данных превышает 1000 строк. Если ускорение WebGL в этом случае нежелательно, `render_mode` может быть принудительно изменен на \"svg\" для векторизованного, более медленного, рендеринга.\n",
    "\n",
    "Результат:\n",
    "* все объекты находятся в растровом виде на canvas в контейнере `.gl-container`\n",
    "* векторных объектов (`.cartesianlayer.[...].plot`) - нет\n",
    "* изменить свойства точек при помощи css не получится\n",
    "\n",
    "![PX c WebGL](assets/px_webgl.png)"
   ]
  },
  {
   "cell_type": "code",
   "execution_count": 3,
   "metadata": {},
   "outputs": [],
   "source": [
    "fig = px.scatter(df, x=\"x\", y=\"y\", render_mode='webgl')\n",
    "fig.show(renderer='browser')"
   ]
  },
  {
   "cell_type": "code",
   "execution_count": 5,
   "metadata": {},
   "outputs": [],
   "source": [
    "# можно явно создать фигуру и использовать ускоренные трейсы\n",
    "import plotly.graph_objects as go\n",
    "\n",
    "fig = go.Figure()\n",
    "\n",
    "fig.add_trace(\n",
    "    go.Scattergl(\n",
    "        x = df['x'],\n",
    "        y = df['y'],\n",
    "        mode = 'markers'\n",
    "    )\n",
    ")\n",
    "\n",
    "fig.show(renderer='browser')"
   ]
  },
  {
   "cell_type": "code",
   "execution_count": null,
   "metadata": {},
   "outputs": [],
   "source": []
  }
 ],
 "metadata": {
  "interpreter": {
   "hash": "3d350be78de3d773dff1180fe4b311ce66aa849320594e97ef66541bde7b78d8"
  },
  "kernelspec": {
   "display_name": "Python 3.10.4 ('pypa')",
   "language": "python",
   "name": "python3"
  },
  "language_info": {
   "codemirror_mode": {
    "name": "ipython",
    "version": 3
   },
   "file_extension": ".py",
   "mimetype": "text/x-python",
   "name": "python",
   "nbconvert_exporter": "python",
   "pygments_lexer": "ipython3",
   "version": "3.10.4"
  },
  "orig_nbformat": 4
 },
 "nbformat": 4,
 "nbformat_minor": 2
}
